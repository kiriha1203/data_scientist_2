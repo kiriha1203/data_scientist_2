{
 "cells": [
  {
   "cell_type": "code",
   "execution_count": 10,
   "metadata": {
    "tags": []
   },
   "outputs": [
    {
     "output_type": "stream",
     "name": "stdout",
     "text": "次元数 1\n要素数 10\n"
    },
    {
     "output_type": "execute_result",
     "data": {
      "text/plain": "array([18,  4,  6,  8, 20, 12, 14, 16,  2, 10])"
     },
     "metadata": {},
     "execution_count": 10
    }
   ],
   "source": [
    "import numpy as np\n",
    "import numpy.random as random\n",
    "import scipy as sp\n",
    "import pandas as pd\n",
    "from pandas import Series, DataFrame\n",
    "\n",
    "#　可視化ライブラリ\n",
    "import matplotlib.pyplot as plt\n",
    "import matplotlib as mpl\n",
    "import seaborn as sns\n",
    "%matplotlib inline\n",
    "\n",
    "# 小数第三位まで表示\n",
    "%precision 3\n",
    "\n",
    "#配列の作成\n",
    "data = np.array([9, 2, 3, 4, 10, 6, 7, 8, 1, 5])\n",
    "data\n",
    "\n",
    "#入力データーの型\n",
    "data.dtype\n",
    "\n",
    "print('次元数', data.ndim)\n",
    "print('要素数', data.size)\n",
    "\n",
    "data * 2"
   ]
  },
  {
   "cell_type": "code",
   "execution_count": 11,
   "metadata": {
    "tags": []
   },
   "outputs": [
    {
     "output_type": "stream",
     "name": "stdout",
     "text": "掛け算 [10 18 24 28 30 30 28 24 18 10]\n累乗 [  1   4   9  16  25  36  49  64  81 100]\n割り算 [ 0.1    0.222  0.375  0.571  0.833  1.2    1.75   2.667  4.5   10.   ]\n"
    }
   ],
   "source": [
    "print('掛け算', np.array([1, 2, 3, 4, 5, 6, 7, 8, 9, 10]) * np.array([10, 9, 8, 7, 6, 5, 4, 3, 2, 1]))\n",
    "print('累乗', np.array([1, 2, 3, 4, 5, 6, 7, 8, 9, 10]) ** 2)\n",
    "print('割り算', np.array([1, 2, 3, 4, 5, 6, 7, 8, 9, 10]) / np.array([10, 9, 8, 7, 6, 5, 4, 3, 2, 1]))"
   ]
  },
  {
   "cell_type": "code",
   "execution_count": 13,
   "metadata": {
    "tags": []
   },
   "outputs": [
    {
     "output_type": "stream",
     "name": "stdout",
     "text": "そのまま [ 1  2  3  4  5  6  7  8  9 10]\nソート後 [ 1  2  3  4  5  6  7  8  9 10]\n[10  9  8  7  6  5  4  3  2  1]\n"
    }
   ],
   "source": [
    "## 2-5 並べ替え\n",
    "print('そのまま', data)\n",
    "# ソートの結果\n",
    "data.sort()\n",
    "print('ソート後', data)\n",
    "# sliceをつかって逆順\n",
    "data[::-1].sort()\n",
    "print(data)"
   ]
  },
  {
   "cell_type": "code",
   "execution_count": 14,
   "metadata": {
    "tags": []
   },
   "outputs": [
    {
     "output_type": "stream",
     "name": "stdout",
     "text": "Min 1\nMax 10\nSum 55\nCum [10 19 27 34 40 45 49 52 54 55]\nRatio [0.182 0.345 0.491 0.618 0.727 0.818 0.891 0.945 0.982 1.   ]\n"
    }
   ],
   "source": [
    "## 2-6 最小、最大、合計、積み上げの計算\n",
    "# 最小\n",
    "print('Min', data.min())\n",
    "# 最大\n",
    "print('Max', data.max())\n",
    "# 合計\n",
    "print('Sum', data.sum())\n",
    "# 積み上げ\n",
    "print('Cum', data.cumsum())\n",
    "# 積み上げ割合\n",
    "print('Ratio', data.cumsum()/ data.sum())"
   ]
  },
  {
   "cell_type": "code",
   "execution_count": 18,
   "metadata": {
    "tags": []
   },
   "outputs": [
    {
     "output_type": "stream",
     "name": "stdout",
     "text": "乱数10この配列 [ 1.764  0.4    0.979  2.241  1.868 -0.977  0.95  -0.151 -0.103  0.411]\n"
    }
   ],
   "source": [
    "### 3 乱数\n",
    "## 3-1 乱数のシード\n",
    "random.seed(0)\n",
    "\n",
    "## 3-2(平均0、　分散１)の乱数を１０生成\n",
    "rnd_data = random.randn(10)\n",
    "\n",
    "print('乱数10この配列', rnd_data)"
   ]
  },
  {
   "cell_type": "code",
   "execution_count": 74,
   "metadata": {
    "tags": []
   },
   "outputs": [
    {
     "output_type": "stream",
     "name": "stdout",
     "text": "[7 9 3 2 7 6 6 6 1 5]\n[ 9  7  8  1  3  6  4  5 10  2]\n[ 6  4 10  9  4  6  5  8  1  7  2  3  9  5  2]\n"
    }
   ],
   "source": [
    "## 3-3 データのランダムな抽出\n",
    "data = np.array([9, 2, 3, 4, 10, 6, 7, 8, 1, 5])\n",
    "\n",
    "# ランダム抽出\n",
    "# 10個を抽出(重複あり、復元抽出)\n",
    "print(random.choice(data, 10))\n",
    "# 10個を抽出(重複なし、非復元抽出)\n",
    "print(random.choice(data, 10, replace = False))\n",
    "\n",
    "## Try seed変更したりランダム抽出の数を増やしてみる\n",
    "print(random.choice(data, 15))"
   ]
  },
  {
   "cell_type": "code",
   "execution_count": 80,
   "metadata": {
    "tags": []
   },
   "outputs": [
    {
     "output_type": "stream",
     "name": "stdout",
     "text": "[[0 1 2]\n [3 4 5]\n [6 7 8]]\n[0 1 2]\n[0 3 6]\n4\n"
    }
   ],
   "source": [
    "### 4 行列\n",
    "np.arange(9)\n",
    "array1 = np.arange(9).reshape(3, 3)\n",
    "print(array1)\n",
    "# 行の取り出し\n",
    "print(array1[0,:])\n",
    "# 列の取り出し\n",
    "print(array1[:,0])\n",
    "# 中央の取り出し\n",
    "print(array1[1,1])"
   ]
  },
  {
   "cell_type": "code",
   "execution_count": 83,
   "metadata": {
    "tags": []
   },
   "outputs": [
    {
     "output_type": "stream",
     "name": "stdout",
     "text": "[[ 9 10 11]\n [12 13 14]\n [15 16 17]]\n"
    },
    {
     "output_type": "execute_result",
     "data": {
      "text/plain": "array([[  0,  10,  22],\n       [ 36,  52,  70],\n       [ 90, 112, 136]])"
     },
     "metadata": {},
     "execution_count": 83
    }
   ],
   "source": [
    "## 4-1 行列の計算\n",
    "array2 = np.arange(9,18).reshape(3, 3)\n",
    "print(array2)\n",
    "# 行列の積\n",
    "np.dot(array1, array2)\n",
    "# 要素同士の積\n",
    "array1 * array2"
   ]
  },
  {
   "cell_type": "code",
   "execution_count": 84,
   "metadata": {
    "tags": []
   },
   "outputs": [
    {
     "output_type": "stream",
     "name": "stdout",
     "text": "[[0 0 0]\n [0 0 0]]\n[[1. 1. 1.]\n [1. 1. 1.]]\n"
    }
   ],
   "source": [
    "## 4-2 要素が0や1の行列を作る\n",
    "print(np.zeros((2, 3), dtype = np.int64))\n",
    "print(np.ones((2, 3), dtype = np.float64))"
   ]
  },
  {
   "cell_type": "code",
   "execution_count": 99,
   "metadata": {
    "tags": []
   },
   "outputs": [
    {
     "output_type": "execute_result",
     "data": {
      "text/plain": "1275"
     },
     "metadata": {},
     "execution_count": 99
    }
   ],
   "source": [
    "### 練習問題2-1\n",
    "## 1から50までの自然数の和を計算するプログラムを書いて、最後の計算結果を表示するプログラムを書いてください。\n",
    "## ただし、np.arrayで1から50までの配列を作り、その総和を求める。\n",
    "\n",
    "array1 = np.array([i for i in range(1,51)])\n",
    "array1.sum()\n"
   ]
  },
  {
   "cell_type": "code",
   "execution_count": 102,
   "metadata": {
    "tags": []
   },
   "outputs": [
    {
     "output_type": "stream",
     "name": "stdout",
     "text": "MIN -0.977277879876411\nMAX 2.240893199201458\nSUM 7.380231707288347\n"
    }
   ],
   "source": [
    "### 練習問題2-2\n",
    "## 標準正規分布に従う乱数を10個発生させて配列を作成。また、その中での最小、最大、合計を求めろ。\n",
    "random.seed(0)\n",
    "\n",
    "rand_data = random.randn(10)\n",
    "print('MIN', rand_data.min())\n",
    "print('MAX', rand_data.max())\n",
    "print('SUM', rand_data.sum())"
   ]
  },
  {
   "cell_type": "code",
   "execution_count": 105,
   "metadata": {
    "tags": []
   },
   "outputs": [
    {
     "output_type": "stream",
     "name": "stdout",
     "text": "[[45 45 45 45 45]\n [45 45 45 45 45]\n [45 45 45 45 45]\n [45 45 45 45 45]\n [45 45 45 45 45]]\n"
    }
   ],
   "source": [
    "### 練習問題2-3\n",
    "## 要素がすべて3の5行5列の行列を作成し、その行列の２乗の計算\n",
    "\n",
    "array3 = np.ones((5,5) ,dtype = 'i') * 3\n",
    "print(array3.dot(array3))"
   ]
  },
  {
   "cell_type": "code",
   "execution_count": null,
   "metadata": {},
   "outputs": [],
   "source": []
  }
 ],
 "metadata": {
  "kernelspec": {
   "name": "python3",
   "display_name": "Python 3"
  }
 },
 "nbformat": 4,
 "nbformat_minor": 4
}