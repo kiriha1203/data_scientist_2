{
 "cells": [
  {
   "cell_type": "code",
   "execution_count": 3,
   "metadata": {},
   "outputs": [],
   "source": [
    "import numpy as np\n",
    "import numpy.random as random\n",
    "import scipy as sp\n",
    "import pandas as pd\n",
    "from pandas import Series, DataFrame\n",
    "\n",
    "#　可視化ライブラリ\n",
    "import matplotlib.pyplot as plt\n",
    "import matplotlib as mpl\n",
    "import seaborn as sns\n",
    "%matplotlib inline\n",
    "\n",
    "# 小数第三位まで表示\n",
    "%precision 3\n",
    "\n",
    "# 線形代数用のライブラリ\n",
    "import scipy.linalg as linalg\n",
    "\n",
    "# 最適化計算（最小値）用の関数\n",
    "from scipy.optimize import minimize_scalar"
   ]
  },
  {
   "cell_type": "code",
   "execution_count": 4,
   "metadata": {
    "tags": []
   },
   "outputs": [
    {
     "output_type": "stream",
     "name": "stdout",
     "text": "行列式\n-4.0\n逆行列\n[[ 0.  -0.5 -0.5]\n [-0.5 -0.  -0.5]\n [-0.5 -0.5  0. ]]\n"
    }
   ],
   "source": [
    "matrix = np.array([[1, -1, -1], [-1, 1, -1], [-1, -1, 1]])\n",
    "\n",
    "# 行列式\n",
    "print('行列式')\n",
    "print(linalg.det(matrix))\n",
    "\n",
    "# 逆行列\n",
    "print(\"逆行列\")\n",
    "print(linalg.inv(matrix))"
   ]
  },
  {
   "cell_type": "code",
   "execution_count": 6,
   "metadata": {
    "tags": []
   },
   "outputs": [
    {
     "output_type": "stream",
     "name": "stdout",
     "text": "固有値\n[-1.+0.j  2.+0.j  2.+0.j]\n固有ベクトル\n[[ 0.577 -0.816  0.428]\n [ 0.577  0.408 -0.816]\n [ 0.577  0.408  0.389]]\n"
    }
   ],
   "source": [
    "## 2-2 固有値と固有ベクトル\n",
    "eig_value, eig_vector = linalg.eig(matrix)\n",
    "\n",
    "#固有値と固有ベクトル\n",
    "print('固有値')\n",
    "print(eig_value)\n",
    "print('固有ベクトル')\n",
    "print(eig_vector)"
   ]
  },
  {
   "cell_type": "code",
   "execution_count": 7,
   "metadata": {
    "tags": []
   },
   "outputs": [
    {
     "output_type": "stream",
     "name": "stdout",
     "text": "-0.9999999852953906\n"
    }
   ],
   "source": [
    "### 3 ニュートン法\n",
    "## 3-1 方程式の解を求める\n",
    "def my_fuction(x):\n",
    "    return (x ** 2 + 2*x + 1)\n",
    "\n",
    "# ニュートン法の読み込み\n",
    "from scipy.optimize import newton\n",
    "\n",
    "# 計算実行\n",
    "print(newton(my_fuction, 0))"
   ]
  },
  {
   "cell_type": "code",
   "execution_count": 9,
   "metadata": {
    "tags": []
   },
   "outputs": [
    {
     "output_type": "stream",
     "name": "stdout",
     "text": "fun: 0.0\n    nfev: 9\n     nit: 4\n success: True\n       x: -1.0000000000000002\n"
    }
   ],
   "source": [
    "## 3-2 最小値を求める\n",
    "# 計算実行\n",
    "print(minimize_scalar(my_fuction, method = 'Brent'))"
   ]
  },
  {
   "cell_type": "code",
   "execution_count": 15,
   "metadata": {
    "tags": []
   },
   "outputs": [
    {
     "output_type": "stream",
     "name": "stdout",
     "text": "-2.9999999999999982\n     fun: -0.25\n    nfev: 10\n     nit: 4\n success: True\n       x: -3.5\n"
    }
   ],
   "source": [
    "# Let's Try\n",
    "def my_function2(x):\n",
    "    return (x ** 2 + 7*x  + 12)\n",
    "\n",
    "print(newton(my_function2, 0))\n",
    "print(minimize_scalar(my_function2, method = 'Brent'))"
   ]
  },
  {
   "cell_type": "code",
   "execution_count": 18,
   "metadata": {
    "tags": []
   },
   "outputs": [
    {
     "output_type": "stream",
     "name": "stdout",
     "text": "行列式\n-12.000000000000002\n逆行列\n[[-0.333  0.083  0.417]\n [-0.333  0.583 -0.083]\n [ 0.667 -0.417 -0.083]]\n固有値\n[ 6.   +0.j -1.414+0.j  1.414+0.j]\n固有ベクトル\n[[-0.577 -0.722  0.16 ]\n [-0.577 -0.143 -0.811]\n [-0.577  0.677  0.563]]\n"
    }
   ],
   "source": [
    "## Prcatice 2-4 2-5 \n",
    "p_matrix = ([[1, 2, 3], [1, 3, 2], [3, 1, 2]])\n",
    "\n",
    "print('行列式')\n",
    "print(linalg.det(p_matrix))\n",
    "print('逆行列')\n",
    "print(linalg.inv(p_matrix))\n",
    "print('固有値')\n",
    "p_eig_value, p_eig_vector = linalg.eig(p_matrix)\n",
    "print(p_eig_value)\n",
    "print('固有ベクトル')\n",
    "print(p_eig_vector)\n"
   ]
  },
  {
   "cell_type": "code",
   "execution_count": 19,
   "metadata": {
    "tags": []
   },
   "outputs": [
    {
     "output_type": "stream",
     "name": "stdout",
     "text": "-0.45339765151640365\n"
    }
   ],
   "source": [
    "## Practice 2-6\n",
    "def my_fuction3(x):\n",
    "    return (x ** 3 + 2*x + 1)\n",
    "\n",
    "print(newton(my_fuction3, 0))"
   ]
  }
 ],
 "metadata": {
  "kernelspec": {
   "name": "python3",
   "display_name": "Python 3"
  }
 },
 "nbformat": 4,
 "nbformat_minor": 4
}